{
 "cells": [
  {
   "cell_type": "code",
   "execution_count": 21,
   "metadata": {},
   "outputs": [],
   "source": [
    "import numpy as np\n",
    "from numpy import sqrt\n",
    "import matplotlib.pyplot as plt"
   ]
  },
  {
   "cell_type": "code",
   "execution_count": 14,
   "metadata": {},
   "outputs": [],
   "source": [
    "def MF2D(image, threshold):\n",
    "    height = image.shape[0]\n",
    "    width = image.shape[1]\n",
    "    \n",
    "    f = 0.0\n",
    "    u = 0.0\n",
    "    chi = 0.0\n",
    "    \n",
    "    for y in np.arange(height-1):\n",
    "        p10 = image[y, 0]\n",
    "        p11 = image[y+1, 0]\n",
    "        for x in range(width-1):\n",
    "            pattern = 0\n",
    "            \n",
    "            p00 = p10\n",
    "            p01 = p11\n",
    "            p10 = image[y, x+1]\n",
    "            p11 = image[y+1, x+1]\n",
    "            \n",
    "            if p00 > threshold:\n",
    "                pattern = pattern | 1\n",
    "            if p10 > threshold:\n",
    "                pattern = pattern | 2\n",
    "            if p11 > threshold:\n",
    "                pattern = pattern | 4\n",
    "            if p01 > threshold:\n",
    "                pattern = pattern | 8\n",
    "                \n",
    "            # a1 = (p00 - threshold) / (p00 - p10)\n",
    "            # a2 = (p10 - threshold) / (p10 - p11)\n",
    "            # a3 = (p01 - threshold) / (p01 - p11)\n",
    "            # a4 = (p00 - threshold) / (p00 - p01)\n",
    "            \n",
    "            if pattern == 0:\n",
    "                pass\n",
    "            elif pattern == 1:\n",
    "                a1 = (p00 - threshold) / (p00 - p10)\n",
    "                a4 = (p00 - threshold) / (p00 - p01)\n",
    "                f += 0.5 * a1 * a4\n",
    "                u += sqrt(a1*a1 + a4*a4)\n",
    "                chi += 0.25\n",
    "            elif pattern == 2:\n",
    "                a1 = (p00 - threshold) / (p00 - p10)\n",
    "                a2 = (p10 - threshold) / (p10 - p11)\n",
    "                f += 0.5 * (1.0-a1)*a2\n",
    "                u += sqrt((1.0-a1)*(1.0-a1) + a2*a2)\n",
    "                chi += 0.25\n",
    "            elif pattern == 3:\n",
    "                a2 = (p10 - threshold) / (p10 - p11)\n",
    "                a4 = (p00 - threshold) / (p00 - p01)\n",
    "                f += a2 + 0.5*(a4-a2)\n",
    "                u += sqrt(1.0 + (a4-a2)*(a4-a2))\n",
    "            elif pattern == 4:\n",
    "                a2 = (p10 - threshold) / (p10 - p11)\n",
    "                a3 = (p01 - threshold) / (p01 - p11)\n",
    "                f += 0.5 * (1.0-a2)*(1.0-a3)\n",
    "                u += sqrt((1.0-a2)*(1.0-a2) + (1.0-a3)*(1.0-a3))\n",
    "                chi += 0.25\n",
    "            elif pattern == 5:\n",
    "                a1 = (p00 - threshold) / (p00 - p10)\n",
    "                a2 = (p10 - threshold) / (p10 - p11)\n",
    "                a3 = (p01 - threshold) / (p01 - p11)\n",
    "                a4 = (p00 - threshold) / (p00 - p01)\n",
    "                f += 1.0 - 0.5*(1.0-a1)*a2 - 0.5*a3*(1.0-a4)\n",
    "                u += sqrt((1.0-a1)*(1.0-a1) + a2*a2) + sqrt(a3*a3 + (1.0-a4)*(1.0-a4))\n",
    "                chi += 0.5\n",
    "            elif pattern == 6:\n",
    "                a1 = (p00 - threshold) / (p00 - p10)\n",
    "                a3 = (p01 - threshold) / (p01 - p11)\n",
    "                f += (1.0-a3) + 0.5*(a3-a1)\n",
    "                u += sqrt(1.0 + (a3-a1)*(a3-a1))\n",
    "            elif pattern == 7:\n",
    "                a3 = (p01 - threshold) / (p01 - p11)\n",
    "                a4 = (p00 - threshold) / (p00 - p01)\n",
    "                f += 1.0 - 0.5*a3*(1.0-a4)\n",
    "                u += sqrt(a3*a3 + (1.0-a4)*(1.0-a4))\n",
    "                chi += -0.25\n",
    "            elif pattern == 8:\n",
    "                a3 = (p01 - threshold) / (p01 - p11)\n",
    "                a4 = (p00 - threshold) / (p00 - p01)\n",
    "                f += 0.5*a3*(1.0-a4)\n",
    "                u += sqrt(a3*a3 + (1.0-a4)*(1.0-a4))\n",
    "                chi += 0.25\n",
    "            elif pattern == 9:\n",
    "                a1 = (p00 - threshold) / (p00 - p10)\n",
    "                a3 = (p01 - threshold) / (p01 - p11)\n",
    "                f += a1 + 0.5*(a3-a1)\n",
    "                u += sqrt(1.0 + (a3-a1)*(a3-a1))\n",
    "            elif pattern == 10:\n",
    "                a1 = (p00 - threshold) / (p00 - p10)\n",
    "                a2 = (p10 - threshold) / (p10 - p11)\n",
    "                a3 = (p01 - threshold) / (p01 - p11)\n",
    "                a4 = (p00 - threshold) / (p00 - p01)\n",
    "                f += 1.0 - 0.5*a1*a4 + 0.5*(1.0-a2)*(1.0-a3)\n",
    "                u += sqrt(a1*a1 + a4*a4) + sqrt((1.0-a2)*(1.0-a2) + (1.0-a3)*(1.0-a3))\n",
    "                chi += 0.5\n",
    "            elif pattern == 11:\n",
    "                a2 = (p10 - threshold) / (p10 - p11)\n",
    "                a3 = (p01 - threshold) / (p01 - p11)\n",
    "                f += 1.0 - 0.5*(1.0-a2)*(1.0-a3)\n",
    "                u += sqrt((1.0-a2)*(1.0-a2) + (1.0-a3)*(1.0-a3))\n",
    "                chi += -0.25\n",
    "            elif pattern == 12:\n",
    "                a2 = (p10 - threshold) / (p10 - p11)\n",
    "                a4 = (p00 - threshold) / (p00 - p01)\n",
    "                f += (1.0-a2) + 0.5*(a2-a4)\n",
    "                u += sqrt(1.0 + (a2-a4)*(a2-a4))\n",
    "            elif pattern == 13:\n",
    "                a1 = (p00 - threshold) / (p00 - p10)\n",
    "                a2 = (p10 - threshold) / (p10 - p11)\n",
    "                f += 1.0 - 0.5*(1.0-a1)*a2\n",
    "                u += sqrt((1.0-a1)*(1.0-a1) + a2*a2)\n",
    "                chi += -0.25\n",
    "            elif pattern == 14:\n",
    "                a1 = (p00 - threshold) / (p00 - p10)\n",
    "                a4 = (p00 - threshold) / (p00 - p01)\n",
    "                f += 1.0 - 0.5*a1*a4\n",
    "                u += sqrt(a1*a1 + a4*a4)\n",
    "                chi += -0.25\n",
    "            elif pattern == 15:\n",
    "                f += 1.0\n",
    "    return (f, u, chi)"
   ]
  },
  {
   "cell_type": "code",
   "execution_count": 17,
   "metadata": {},
   "outputs": [],
   "source": [
    "img = np.random.randn(256, 256)"
   ]
  },
  {
   "cell_type": "code",
   "execution_count": 18,
   "metadata": {},
   "outputs": [
    {
     "data": {
      "text/plain": [
       "(31571.00690770213, 52883.00190763454, 5268.0)"
      ]
     },
     "execution_count": 18,
     "metadata": {},
     "output_type": "execute_result"
    }
   ],
   "source": [
    "MF2D(img, 0.1)"
   ]
  },
  {
   "cell_type": "code",
   "execution_count": 19,
   "metadata": {},
   "outputs": [],
   "source": [
    "threshold = np.linspace(-3, 3, 50)"
   ]
  },
  {
   "cell_type": "code",
   "execution_count": 23,
   "metadata": {},
   "outputs": [],
   "source": [
    "v0s = []\n",
    "v1s = []\n",
    "v2s = []\n",
    "for nu in threshold:\n",
    "    v0, v1, v2 = MF2D(img, nu)\n",
    "    v0s.append(v0)\n",
    "    v1s.append(v1)\n",
    "    v2s.append(v2)"
   ]
  },
  {
   "cell_type": "code",
   "execution_count": 28,
   "metadata": {},
   "outputs": [
    {
     "data": {
      "text/plain": [
       "<matplotlib.lines.Line2D at 0x2b4e279a0750>"
      ]
     },
     "execution_count": 28,
     "metadata": {},
     "output_type": "execute_result"
    },
    {
     "data": {
      "image/png": "[encoded data removed]",
      "text/plain": [
       "<Figure size 432x288 with 1 Axes>"
      ]
     },
     "metadata": {
      "needs_background": "light"
     },
     "output_type": "display_data"
    }
   ],
   "source": [
    "fig, ax = plt.subplots(1, 1)\n",
    "ax.plot(threshold, v0s)\n",
    "ax.plot(threshold, v1s)\n",
    "ax.plot(threshold, v2s)\n",
    "ax.axvline(x=0, color='k', alpha=0.5)"
   ]
  },
  {
   "cell_type": "code",
   "execution_count": null,
   "metadata": {},
   "outputs": [],
   "source": []
  }
 ],
 "metadata": {
  "kernelspec": {
   "display_name": "gpu",
   "language": "python",
   "name": "gpu"
  },
  "language_info": {
   "codemirror_mode": {
    "name": "ipython",
    "version": 3
   },
   "file_extension": ".py",
   "mimetype": "text/x-python",
   "name": "python",
   "nbconvert_exporter": "python",
   "pygments_lexer": "ipython3",
   "version": "3.7.7"
  }
 },
 "nbformat": 4,
 "nbformat_minor": 4
}
