{
 "cells": [
  {
   "cell_type": "code",
   "execution_count": 1,
   "metadata": {},
   "outputs": [],
   "source": [
    "import matplotlib.pyplot as plt\n",
    "import numpy as np\n",
    "import tensorflow.compat.v2 as tf\n",
    "import tensorflow_datasets as tfds\n",
    "import tree\n",
    "import os\n",
    "\n",
    "import began\n",
    "from pathlib import Path\n",
    "import xarray as xa\n",
    "import numpy as np\n",
    "from began import apply_per_image_standardization\n",
    "from xhistogram.xarray import histogram\n",
    "import seaborn as sns\n",
    "\n",
    "import began\n",
    "from began import rotate, flip\n",
    "from began import Encoder, Decoder, VQVAEModel, ResidualStack\n",
    "from began import make_square_mask, make_flat_bins, apply_nmt_flat\n",
    "import pymaster as nmt\n",
    "\n",
    "%load_ext autoreload\n",
    "%autoreload 2"
   ]
  },
  {
   "cell_type": "code",
   "execution_count": 2,
   "metadata": {},
   "outputs": [],
   "source": [
    "xtick_labels = began.xarray.get_predefined_bin_labels()"
   ]
  },
  {
   "cell_type": "code",
   "execution_count": 3,
   "metadata": {},
   "outputs": [
    {
     "ename": "NameError",
     "evalue": "name 'df' is not defined",
     "output_type": "error",
     "traceback": [
      "\u001b[0;31m---------------------------------------------------------------------------\u001b[0m",
      "\u001b[0;31mNameError\u001b[0m                                 Traceback (most recent call last)",
      "\u001b[0;32m<ipython-input-3-c719f65a27ce>\u001b[0m in \u001b[0;36m<module>\u001b[0;34m\u001b[0m\n\u001b[1;32m      7\u001b[0m                \u001b[0mpalette\u001b[0m\u001b[0;34m=\u001b[0m\u001b[0mpal\u001b[0m\u001b[0;34m,\u001b[0m\u001b[0;34m\u001b[0m\u001b[0;34m\u001b[0m\u001b[0m\n\u001b[1;32m      8\u001b[0m                \u001b[0mhue\u001b[0m\u001b[0;34m=\u001b[0m\u001b[0;34m'direc'\u001b[0m\u001b[0;34m,\u001b[0m\u001b[0;34m\u001b[0m\u001b[0;34m\u001b[0m\u001b[0m\n\u001b[0;32m----> 9\u001b[0;31m                \u001b[0mdata\u001b[0m\u001b[0;34m=\u001b[0m\u001b[0mdf\u001b[0m\u001b[0;34m[\u001b[0m\u001b[0mdf\u001b[0m\u001b[0;34m[\u001b[0m\u001b[0;34m'field'\u001b[0m\u001b[0;34m]\u001b[0m \u001b[0;34m==\u001b[0m \u001b[0;34m'tt'\u001b[0m\u001b[0;34m]\u001b[0m\u001b[0;34m,\u001b[0m\u001b[0;34m\u001b[0m\u001b[0;34m\u001b[0m\u001b[0m\n\u001b[0m\u001b[1;32m     10\u001b[0m               ax=ax)\n\u001b[1;32m     11\u001b[0m \u001b[0;31m#sns.despine(left=True)\u001b[0m\u001b[0;34m\u001b[0m\u001b[0;34m\u001b[0m\u001b[0;34m\u001b[0m\u001b[0m\n",
      "\u001b[0;31mNameError\u001b[0m: name 'df' is not defined"
     ]
    },
    {
     "data": {
      "image/png": "[encoded data removed]",
      "text/plain": [
       "<Figure size 576x432 with 1 Axes>"
      ]
     },
     "metadata": {},
     "output_type": "display_data"
    }
   ],
   "source": [
    "sns.set()\n",
    "fig, ax = plt.subplots(1, 1, figsize=(8, 6))\n",
    "pal = sns.cubehelix_palette(2, rot=-0.5, dark=.7)\n",
    "\n",
    "g = sns.violinplot(x=\"bandpowers\", y=\"log_data\",\n",
    "               split=True, inner=\"quart\",\n",
    "               palette=pal,\n",
    "               hue='direc',\n",
    "               data=df[df['field'] == 'tt'],\n",
    "              ax=ax)\n",
    "#sns.despine(left=True)\n",
    "g.set_ylabel(r\"$\\log[C_{\\ell_b}^{\\rm TT}]$\")\n",
    "g.set_xlabel(r\"$\\ell_b$\")\n",
    "g.set_xticklabels(labels=xtick_labels, rotation=45)\n",
    "fig.savefig(\"example-seaborn.pdf\")\n"
   ]
  },
  {
   "cell_type": "code",
   "execution_count": null,
   "metadata": {},
   "outputs": [],
   "source": [
    "PLOT_DIR = Path('/home/bthorne/projects/gan/began/reports/figures/slides/temp/test')\n",
    "\n",
    "model = tf.saved_model.load(\"/oasis/scratch/comet/bthorne/temp_project/began_scratch/mhd/mhd_temp/vqvae-saved\")\n",
    "\n",
    "data_dir = Path(\"/oasis/scratch/comet/bthorne/temp_project/began_scratch/mhd/data\")\n",
    "test_fpath = data_dir / \"mhd_ntest-0300.cdf\"\n",
    "test_xr = xa.open_dataarray(test_fpath).sel(pol=['t'])\n",
    "\n",
    "data_dir = Path(\"/oasis/scratch/comet/bthorne/temp_project/began_scratch/mhd/data\")\n",
    "test_fpath = data_dir / \"mhd_cl_ntest-0300.cdf\"\n",
    "test_xr_cl = xa.open_dataarray(test_fpath).sel(field=['tt'])"
   ]
  },
  {
   "cell_type": "code",
   "execution_count": null,
   "metadata": {},
   "outputs": [],
   "source": [
    "display(test_xr)\n",
    "display(test_xr_cl)"
   ]
  },
  {
   "cell_type": "code",
   "execution_count": null,
   "metadata": {},
   "outputs": [],
   "source": [
    "a = model.inference(test_xr.transpose('batch', ..., 'pol').values.astype(np.float32))"
   ]
  },
  {
   "cell_type": "code",
   "execution_count": null,
   "metadata": {},
   "outputs": [],
   "source": [
    "reco_xr = test_xr.copy(deep=True, data=a['x_recon'])\n",
    "resi_xr = reco_xr.copy(deep=True, data=(test_xr - reco_xr).values)"
   ]
  },
  {
   "cell_type": "code",
   "execution_count": null,
   "metadata": {},
   "outputs": [],
   "source": [
    "reco_xr.name = 'Reconstruction'\n",
    "resi_xr.name = 'Residuals'"
   ]
  },
  {
   "cell_type": "code",
   "execution_count": null,
   "metadata": {},
   "outputs": [],
   "source": [
    "reco_xr_cl = apply_nmt_flat(reco_xr)\n",
    "reco_xr_cl.name = 'data'\n",
    "resi_xr_cl = apply_nmt_flat(resi_xr)\n",
    "resi_xr_cl.name = 'data'"
   ]
  },
  {
   "cell_type": "code",
   "execution_count": null,
   "metadata": {},
   "outputs": [],
   "source": [
    "sns.set()\n",
    "fig, ax = plt.subplots(1, 1, figsize=(8, 6))\n",
    "pal = sns.cubehelix_palette(2, rot=-0.5, dark=.7)\n",
    "\n",
    "g = sns.violinplot(x=\"bandpowers\", y=\"log_data\",\n",
    "               split=True, inner=\"quart\",\n",
    "               palette=pal,\n",
    "               hue='direc',\n",
    "               data=df[df['field'] == 'tt'],\n",
    "              ax=ax)\n",
    "sns.despine(left=True)\n",
    "g.set_ylabel(r\"$\\log[C_{\\ell_b}^{\\rm TT}]$\")\n",
    "g.set_xlabel(r\"$\\ell_b$\")\n",
    "g.set_xticklabels(labels=xtick_labels, rotation=45)\n",
    "fig.savefig(\"example-seaborn.pdf\")"
   ]
  },
  {
   "cell_type": "code",
   "execution_count": null,
   "metadata": {},
   "outputs": [],
   "source": [
    "reco_df = reco_xr_cl.to_dataframe()\n",
    "resi_df = resi_xr_cl.to_dataframe()"
   ]
  },
  {
   "cell_type": "code",
   "execution_count": null,
   "metadata": {},
   "outputs": [],
   "source": [
    "reco_df.reset_index(level=['field', 'bandpowers'], inplace=True)\n",
    "resi_df.reset_index(level=['field', 'bandpowers'], inplace=True)"
   ]
  },
  {
   "cell_type": "code",
   "execution_count": null,
   "metadata": {},
   "outputs": [],
   "source": [
    "reco_df"
   ]
  },
  {
   "cell_type": "code",
   "execution_count": null,
   "metadata": {},
   "outputs": [],
   "source": [
    "merged = reco_df.join(resi_df)"
   ]
  },
  {
   "cell_type": "code",
   "execution_count": null,
   "metadata": {},
   "outputs": [],
   "source": [
    "merged"
   ]
  },
  {
   "cell_type": "code",
   "execution_count": null,
   "metadata": {},
   "outputs": [],
   "source": [
    "reco_df"
   ]
  },
  {
   "cell_type": "code",
   "execution_count": null,
   "metadata": {},
   "outputs": [],
   "source": []
  },
  {
   "cell_type": "code",
   "execution_count": null,
   "metadata": {},
   "outputs": [],
   "source": []
  },
  {
   "cell_type": "code",
   "execution_count": null,
   "metadata": {},
   "outputs": [],
   "source": []
  }
 ],
 "metadata": {
  "kernelspec": {
   "display_name": "gpu",
   "language": "python",
   "name": "gpu"
  },
  "language_info": {
   "codemirror_mode": {
    "name": "ipython",
    "version": 3
   },
   "file_extension": ".py",
   "mimetype": "text/x-python",
   "name": "python",
   "nbconvert_exporter": "python",
   "pygments_lexer": "ipython3",
   "version": "3.7.7"
  }
 },
 "nbformat": 4,
 "nbformat_minor": 4
}
