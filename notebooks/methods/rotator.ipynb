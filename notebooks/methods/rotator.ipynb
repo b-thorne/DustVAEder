{
 "cells": [
  {
   "cell_type": "code",
   "execution_count": 1,
   "metadata": {},
   "outputs": [],
   "source": [
    "import healpy as hp\n",
    "import numpy as np\n",
    "import matplotlib.pyplot as plt\n",
    "import astropy.units as units"
   ]
  },
  {
   "cell_type": "code",
   "execution_count": 2,
   "metadata": {},
   "outputs": [],
   "source": [
    "lon = 15.\n",
    "lat = 90. - 20 \n",
    "\n",
    "phi = 15. * np.pi / 180.\n",
    "theta = 20. * np.pi / 180.\n"
   ]
  },
  {
   "cell_type": "code",
   "execution_count": 52,
   "metadata": {},
   "outputs": [],
   "source": [
    "thetaphi_rotator = hp.Rotator(rot=[theta, phi], deg=False)\n",
    "lonlat_rotator = hp.Rotator(rot=[lon, lat - 90], deg=True, inv=False)"
   ]
  },
  {
   "cell_type": "code",
   "execution_count": 53,
   "metadata": {},
   "outputs": [],
   "source": [
    "rotated_thetaphi = thetaphi_rotator([theta, phi], deg=False, lonlat=False)\n",
    "rotated_lonlat = lonlat_rotator([lon, lat], lonlat=True)"
   ]
  },
  {
   "cell_type": "code",
   "execution_count": 56,
   "metadata": {},
   "outputs": [
    {
     "name": "stdout",
     "output_type": "stream",
     "text": [
      "[ 0.61027771 -0.05203757]\n",
      "[ 0. 90.]\n",
      "[15. 70.]\n"
     ]
    }
   ],
   "source": [
    "print(rotated_thetaphi)\n",
    "print(rotated_lonlat)\n",
    "print(lonlat_rotator.I([0., 90], lonlat=True))"
   ]
  },
  {
   "cell_type": "code",
   "execution_count": null,
   "metadata": {},
   "outputs": [],
   "source": [
    "inv_rotated_rad = rad_rotator.I(rotated_rad, deg=False)\n",
    "inv_rotated_deg = deg_rotator.I(rotated_deg, lonlat=True)"
   ]
  },
  {
   "cell_type": "code",
   "execution_count": null,
   "metadata": {},
   "outputs": [],
   "source": [
    "print(rot_rad, inv_rotated_rad)\n",
    "print(rot_deg, inv_rotated_deg)"
   ]
  },
  {
   "cell_type": "code",
   "execution_count": null,
   "metadata": {},
   "outputs": [],
   "source": []
  }
 ],
 "metadata": {
  "file_extension": ".py",
  "kernelspec": {
   "display_name": "Python 3.7.5 64-bit",
   "language": "python",
   "name": "python37564bitce7da310661f4e53a068c42b34a500be"
  },
  "language_info": {
   "codemirror_mode": {
    "name": "ipython",
    "version": 3
   },
   "file_extension": ".py",
   "mimetype": "text/x-python",
   "name": "python",
   "nbconvert_exporter": "python",
   "pygments_lexer": "ipython3",
   "version": "3.7.6"
  },
  "mimetype": "text/x-python",
  "name": "python",
  "npconvert_exporter": "python",
  "pygments_lexer": "ipython3",
  "version": 3
 },
 "nbformat": 4,
 "nbformat_minor": 4
}
